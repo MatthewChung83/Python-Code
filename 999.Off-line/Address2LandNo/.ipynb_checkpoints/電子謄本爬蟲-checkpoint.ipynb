{
 "cells": [
  {
   "cell_type": "code",
   "execution_count": 1,
   "metadata": {},
   "outputs": [
    {
     "data": {
      "image/png": "[encoded data removed]",
      "text/plain": [
       "<PIL.PngImagePlugin.PngImageFile image mode=RGB size=200x50 at 0x10C8D1D30>"
      ]
     },
     "execution_count": 1,
     "metadata": {},
     "output_type": "execute_result"
    }
   ],
   "source": [
    "from requests import Session\n",
    "from PIL import Image\n",
    "import io, time, re\n",
    "from datetime import datetime\n",
    "\n",
    "req_session = Session()\n",
    "### consent check, get query cookie\n",
    "query_cookie='ASP.NET_SessionId='+req_session.get('http://210.71.181.102/').cookies['ASP.NET_SessionId']\n",
    "# print(query_cookie)\n",
    "query_headers={\n",
    "    'Cookie':query_cookie,\n",
    "    'Host': '210.71.181.102',\n",
    "    'User-Agent': 'Mozilla/5.0 (Macintosh; Intel Mac OS X 10_12_6) AppleWebKit/537.36 (KHTML, like Gecko) Chrome/83.0.4103.97 Safari/537.36',\n",
    "}\n",
    "req_session.post('http://210.71.181.102/', headers=query_headers, data={'au': 'Y'}).text\n",
    "req_session.get('http://210.71.181.102/Login/AAALogin', headers=query_headers)\n",
    "###\n",
    "\n",
    "### get login cookie\n",
    "login_cookie_data={\n",
    "    'aa-version': '3.1',\n",
    "    'aa-productid': '2256',\n",
    "    'aa-curl': 'http://210.71.181.102//Login/AAII',\n",
    "    'aa-eurl': 'http://210.71.181.102//Login/AAALogin',\n",
    "    'aa-fee': '0',\n",
    "    'aa-others': '',\n",
    "    'aa-sum': 'b8e8ca1d9377b5637b1140770369425d',\n",
    "    'aa-screenAlignment': 'right',\n",
    "}\n",
    "login_cookie_headers={\n",
    "    'Host': 'aaav2.hinet.net',\n",
    "    'Origin': 'http://210.71.181.102',\n",
    "    'Referer': 'http://210.71.181.102/Login/AAALogin',\n",
    "    'User-Agent': 'Mozilla/5.0 (Macintosh; Intel Mac OS X 10_12_6) AppleWebKit/537.36 (KHTML, like Gecko) Chrome/83.0.4103.97 Safari/537.36',\n",
    "}\n",
    "login_cookie_resp=req_session.post('https://aaav2.hinet.net/A1/AuthScreen.jsp', headers=login_cookie_headers, data=login_cookie_data)\n",
    "login_cookie='; '.join( ['='.join(i) for i in login_cookie_resp.cookies.items()] )\n",
    "JSESSIONID=login_cookie_resp.cookies['JSESSIONID']\n",
    "# print(login_cookie)\n",
    "###\n",
    "\n",
    "### get valid code image\n",
    "validcode_headers={\n",
    "    'Cookie':login_cookie,\n",
    "    'Host': 'aaav2.hinet.net',\n",
    "    'Referer': 'https://aaav2.hinet.net/A1/AuthScreen.jsp',\n",
    "    'User-Agent': 'Mozilla/5.0 (Macintosh; Intel Mac OS X 10_12_6) AppleWebKit/537.36 (KHTML, like Gecko) Chrome/83.0.4103.97 Safari/537.36',\n",
    "}\n",
    "validcode_url='https://aaav2.hinet.net/A1/AAAIden'\n",
    "validcode_resp=req_session.get(validcode_url, headers=validcode_headers)\n",
    "Image.open( io.BytesIO(validcode_resp.content) )"
   ]
  },
  {
   "cell_type": "code",
   "execution_count": 2,
   "metadata": {},
   "outputs": [
    {
     "data": {
      "text/plain": [
       "<Response [200]>"
      ]
     },
     "execution_count": 2,
     "metadata": {},
     "output_type": "execute_result"
    }
   ],
   "source": [
    "### login\n",
    "validcode='xawah'\n",
    "\n",
    "login_data={\n",
    "    'aa-version': '3.1',\n",
    "    'aa-productid': '2256',\n",
    "    'aa-curl': 'http://210.71.181.102//Login/AAII',\n",
    "    'aa-eurl': 'http://210.71.181.102//Login/AAALogin',\n",
    "    'aa-sc': '',\n",
    "    'aa-fee': '0',\n",
    "    'aa-period': '',\n",
    "    'aa-cporderno': '',\n",
    "    'aa-description': '',\n",
    "    'aa-cpparam': '',\n",
    "    'aa-sum': '3e7e832d251909d4026768674048c932',\n",
    "    'aa-eurlDesc': '',\n",
    "    'pbSignData': '',\n",
    "    'pbSignDELen': '',\n",
    "    'aa-apselect': 'Hinet',\n",
    "    'aa-prdstatus': 'On',\n",
    "    'aa-xxx': JSESSIONID+'!'+str('%.3f'%time.time()).replace('.',''),\n",
    "    'aa-device': 'pc',\n",
    "    'aa-usage': '',\n",
    "    'aa-uid': '89850388',\n",
    "    'aa-passwd': 'bvi0001',\n",
    "    'aa-captchaID': validcode,\n",
    "}\n",
    "\n",
    "login_headers={\n",
    "    'Cookie': login_cookie,\n",
    "    'Host': 'aaav2.hinet.net',\n",
    "    'Origin': 'https://aaav2.hinet.net',\n",
    "    'Referer': 'https://aaav2.hinet.net/A1/AuthScreen.jsp',\n",
    "    'User-Agent': 'Mozilla/5.0 (Macintosh; Intel Mac OS X 10_12_6) AppleWebKit/537.36 (KHTML, like Gecko) Chrome/83.0.4103.97 Safari/537.36',\n",
    "}\n",
    "\n",
    "login_url='https://aaav2.hinet.net/A1/Authentication'\n",
    "auth_resp=req_session.post(login_url, headers=login_headers, data=login_data)\n",
    "###\n",
    "\n",
    "### auth redirection\n",
    "AAII_url=re.search(r'window.location.replace\\(\\'(.+?)\\'', auth_resp.text).group(1)\n",
    "req_session.get(AAII_url, headers=query_headers)"
   ]
  },
  {
   "cell_type": "code",
   "execution_count": 3,
   "metadata": {},
   "outputs": [
    {
     "data": {
      "text/plain": [
       "'2~~:103年建成電謄字900012號 時間:103/06/18  22:15:30'"
      ]
     },
     "execution_count": 3,
     "metadata": {},
     "output_type": "execute_result"
    }
   ],
   "source": [
    "request_string='''[REQUEST]\n",
    "    [COMMON]\n",
    "       [FROM_ID]106[/FROM_ID]\n",
    "       [USER_ID]{user_id}[/USER_ID]\n",
    "       [USERIP]{ip}[/USERIP]\n",
    "       [USER_NAME]英屬維爾京群島商聯合財信開發有限公司台灣分公司[/USER_NAME]\n",
    "       [USER_TYPE]2[/USER_TYPE]\n",
    "       [APPLYUSER]英屬維爾京群島商聯合財信開發有限公司台灣分公司[/APPLYUSER]\n",
    "       [APPLYUSER_LIDN][/APPLYUSER_LIDN]\n",
    "       [REASON_ORG_ID][/REASON_ORG_ID]\n",
    "       [REASON_ID]{reason_id}[/REASON_ID]\n",
    "       [CNT]1[/CNT]\n",
    "       [MAXPAGE]100[/MAXPAGE]\n",
    "       [LN]EF[/LN]\n",
    "       [AREA]{area}[/AREA]\n",
    "       [CITYID]{city_id}[/CITYID]\n",
    "       [CITYNAME]{city_name}[/CITYNAME]\n",
    "       [CONSIGNOR_ID]{id}[/CONSIGNOR_ID]\n",
    "       [CONSIGNOR][/CONSIGNOR]\n",
    "       [APPLYUSER_TYPE]5[/APPLYUSER_TYPE]\n",
    "       [USER_CITYID][/USER_CITYID]\n",
    "       [USER_LN][/USER_LN]\n",
    "       [USER_AREAID][/USER_AREAID]\n",
    "       [USER_MANAGER][/USER_MANAGER]\n",
    "       [USER_LN_NAME][/USER_LN_NAME]\n",
    "       [SR_DATE]{date}[/SR_DATE]\n",
    "       [SR_TIME]{time}[/SR_TIME]\n",
    "       [CERT_ID CHECK='N'][/CERT_ID]\n",
    "       [CERT_NAME][/CERT_NAME]\n",
    "       [CERT_TYPE][/CERT_TYPE]\n",
    "       [IDENTITY_ID][/IDENTITY_ID]\n",
    "       [CERT_AGENT_ID][/CERT_AGENT_ID]\n",
    "       [CERT_AGENT_TYPE]1[/CERT_AGENT_TYPE]\n",
    "       [REGTYPE]2[/REGTYPE]\n",
    "    [/COMMON]\n",
    "    [DATA NO=\"0\"]\n",
    "       [COMMON]\n",
    "           [REGTYPE]2[/REGTYPE]\n",
    "           [AA48]{aa48}[/AA48]\n",
    "           [AA48C]{aa48c}[/AA48C]\n",
    "           [AA49]{aa49}[/AA49]\n",
    "           [AA49_1][/AA49_1]\n",
    "           [LIDN]{id}[/LIDN]\n",
    "           [LN]EF[/LN]\n",
    "           [AREA]{area}[/AREA]\n",
    "           [CITYID]{city_id}[/CITYID]\n",
    "           [CITYNAME]{city_name}[/CITYNAME]\n",
    "       [/COMMON]\n",
    "       [REG CHECK=\"Y\"]\n",
    "          [PRINT_HD]N[/PRINT_HD]\n",
    "          [PRINT_OD]Y[/PRINT_OD]\n",
    "          [REG_SRPRCE]Y[/REG_SRPRCE]\n",
    "          [TYPE]0[/TYPE]\n",
    "          [CNT]1[/CNT]\n",
    "       [/REG]\n",
    "    [/DATA]\n",
    "    [/REQUEST]'''\n",
    "\n",
    "ip = req_session.get('http://api.ipify.org/').text\n",
    "dt = str( int(datetime.now().year)-1911 ) + datetime.now().strftime('%m%d')\n",
    "tm = datetime.now().strftime('%H%M%S')\n",
    "\n",
    "user_id = '89850388'\n",
    "reason_id = '03'  # 03: 自行參考\n",
    "city_name='高雄市'\n",
    "area_name='岡山區'\n",
    "city_id='383160000A'\n",
    "area='19'\n",
    "aa48='2300'\n",
    "aa48c='岡山段'\n",
    "aa49='0021-0000'\n",
    "apply_data={\n",
    "    'Sxml': request_string.format(ip=ip, user_id=user_id, id='1234567890', reason_id=reason_id, date=dt, time=tm , city_name=city_name, area_name=area_name, city_id=city_id, area=area, aa48=aa48, aa48c=aa48c, aa49=aa49),\n",
    "    'CName': city_name,\n",
    "    'AName': area_name,\n",
    "    'city': city_id,\n",
    "    'area': area,\n",
    "}\n",
    "\n",
    "apply_headers={\n",
    "    'Cookie':query_cookie,\n",
    "    'Host': '210.71.181.102',\n",
    "    'Origin': 'http://210.71.181.102',\n",
    "#     'Referer': 'http://210.71.181.102/EpaperApply/Map',\n",
    "    'Referer': 'http://210.71.181.102/EpaperApply/MapTest',\n",
    "    'User-Agent': 'Mozilla/5.0 (Macintosh; Intel Mac OS X 10_12_6) AppleWebKit/537.36 (KHTML, like Gecko) Chrome/83.0.4103.97 Safari/537.36',\n",
    "}\n",
    "\n",
    "# apply_url='http://210.71.181.102/EpaperApply/ApplyDoc'\n",
    "apply_url='http://210.71.181.102/EpaperApply/ApplyDocTest'  # 測試版網站\n",
    "req_session.post(apply_url, headers=apply_headers, data=apply_data).text"
   ]
  },
  {
   "cell_type": "code",
   "execution_count": 9,
   "metadata": {
    "scrolled": true
   },
   "outputs": [
    {
     "data": {
      "text/plain": [
       "['103/06/18',\n",
       " '22:15:30',\n",
       " '臺北市中正區',\n",
       " '099年建成電謄字000017號',\n",
       " '登記謄本',\n",
       " '2',\n",
       " '40',\n",
       " '預覽列印',\n",
       " '未下載',\n",
       " '取消申請',\n",
       " '申請明細']"
      ]
     },
     "execution_count": 9,
     "metadata": {},
     "output_type": "execute_result"
    }
   ],
   "source": [
    "### \n",
    "from bs4 import BeautifulSoup\n",
    "BeautifulSoup(req_session.post('http://210.71.181.102/EpaperDoc/DownloadDataTest').text).select('tr.bgy')[0].text.split()"
   ]
  }
 ],
 "metadata": {
  "kernelspec": {
   "display_name": "Python 3",
   "language": "python",
   "name": "python3"
  },
  "language_info": {
   "codemirror_mode": {
    "name": "ipython",
    "version": 3
   },
   "file_extension": ".py",
   "mimetype": "text/x-python",
   "name": "python",
   "nbconvert_exporter": "python",
   "pygments_lexer": "ipython3",
   "version": "3.7.3"
  }
 },
 "nbformat": 4,
 "nbformat_minor": 2
}
